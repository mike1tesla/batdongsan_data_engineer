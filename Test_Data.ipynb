{
 "cells": [
  {
   "cell_type": "code",
   "execution_count": 1,
   "id": "a641fd19",
   "metadata": {},
   "outputs": [],
   "source": [
    "import pandas as pd\n",
    "import numpy as np"
   ]
  },
  {
   "cell_type": "code",
   "execution_count": 11,
   "id": "13d9c2fb",
   "metadata": {},
   "outputs": [],
   "source": [
    "links = pd.read_csv(\"data.csv\").Link\n"
   ]
  },
  {
   "cell_type": "code",
   "execution_count": 14,
   "id": "0986539c",
   "metadata": {},
   "outputs": [
    {
     "data": {
      "text/plain": [
       "array(['https://batdongsan.com.vn/ban-can-ho-chung-cu-xa-duong-xa-prj-vinhomes-ocean-park-gia-lam/quy-view-dep-chinh-chu-ban-cat-lo-tu-300tr-so-do-chinh-chu-mien-phi-mg-tro-vay-toi-70-pr39114589',\n",
       "       'https://batdongsan.com.vn/ban-can-ho-chung-cu-xa-duong-xa-prj-vinhomes-ocean-park-gia-lam/-tot-nhat-thang-3-tai-vinmes-san-so-o-dich-pr39265572',\n",
       "       'https://batdongsan.com.vn/ban-can-ho-chung-cu-duong-32-xa-di-trach-prj-chung-cu-the-wisteria/ban-cc-hoai-duc-ck-13-200tr-vay-0-an-han-24-thang-ky-hdmb-truc-tiep-cdt-036368858-pr39208724',\n",
       "       'https://batdongsan.com.vn/ban-can-ho-chung-cu-xa-duong-xa-prj-vinhomes-ocean-park-gia-lam/ban-quan-ly-du-an-quy-thang-3-cat-lo-chinh-chu-studio-1pn-2pn-3pn-mien-phi-trung-gian-pr39240979',\n",
       "       'https://batdongsan.com.vn/ban-nha-rieng-duong-quoc-lo-35-xa-hong-ky-1/ban-dat-670m2-chinh-chu-ha-noi-pr39315669?source=ad&adid=2373875',\n",
       "       'https://batdongsan.com.vn/ban-can-ho-chung-cu-phuong-tay-mo-prj-the-canopy-residences-vinhomes-smart-city/mua-nha-re-hon-toi-400-trieu-voi-chinh-sach-doc-dac-tai-toa-tc2-city-pr39376115',\n",
       "       'https://batdongsan.com.vn/ban-can-ho-chung-cu-xa-duong-xa-prj-vinhomes-ocean-park-gia-lam/chinh-chu-ban-2-ngu-1-ve-sinh-full-noi-that-dep-dt-59m2-tai-pak-pr39336951',\n",
       "       'https://batdongsan.com.vn/ban-can-ho-chung-cu-duong-quoc-lo-5b-xa-da-ton-prj-masteri-waterfront/quy-hang-hieu-studio-den-3pn-view-24-5ha-ck-toi-700tr-mien-phi-quan-ly-3-nam-pr39333335',\n",
       "       'https://batdongsan.com.vn/ban-can-ho-chung-cu-phuong-tay-mo-prj-vinhomes-smart-city/chinh-chu-ban-gap-cc-2-ngu-2-vs-goc-gia-3-5x-ty-co-thuong-luong-pr39397958',\n",
       "       'https://batdongsan.com.vn/ban-can-ho-chung-cu-xa-duong-xa-prj-vinhomes-ocean-park-gia-lam/tong-p-quy-999-cat-lo-300tr-500tr-1pn-2pn-3pn-thang-6-tai-vinmes-park-pr37450190',\n",
       "       'https://batdongsan.com.vn/ban-can-ho-chung-cu-duong-huynh-van-nghe-phuong-sai-dong-prj-le-grand-jardin-sai-dong/-3-phong-ngu-gia-tot-nhat-ha-noi-dien-tich-94m2-gia-chi-nhinh-4-ty-pr39315957',\n",
       "       'https://batdongsan.com.vn/ban-can-ho-chung-cu-duong-huynh-van-nghe-phuong-sai-dong-prj-le-grand-jardin-sai-dong/cdt-brg-group-mo-ban-quy-2-ngu-77m2-3-ngu-85m2-106m2-view-tai-jardin-pr39379036',\n",
       "       'https://batdongsan.com.vn/ban-can-ho-chung-cu-duong-da-ton-xa-da-ton-prj-the-zurich-vinhomes-ocean-park/mo-ban-dot-1-dong-5-sao-view-chi-tu-900-trieu-phan-khu-vinmes-park-pr39388842',\n",
       "       'https://batdongsan.com.vn/ban-can-ho-chung-cu-duong-huynh-van-nghe-phuong-sai-dong-prj-le-grand-jardin-sai-dong/cdt-brg-group-mo-ban-quy-hang-l1-l2-view-chiet-khau-cao-nhat-thi-truong-qua-tang-khung-pr39395998',\n",
       "       'https://batdongsan.com.vn/ban-can-ho-chung-cu-duong-32-xa-di-trach-prj-chung-cu-the-wisteria/chinh-sach-moi-ck-14-qua-tang-250-trieu-tro-24-thang-kng-lai-gia-goc-pr39292075',\n",
       "       'https://batdongsan.com.vn/ban-can-ho-chung-cu-phuong-tay-mo-prj-the-canopy-residences-vinhomes-smart-city/-1pn-44-m2-view-be-boi-chi-2-9-ty-vay-70-htls-48-thang-2-ham-do-xe-tai-city-pr38661260',\n",
       "       'https://batdongsan.com.vn/ban-can-ho-chung-cu-phuong-tay-mo-prj-the-miami/con-01-2pn2wc-re-nhat-gs6-gia-chi-2-99-ty-vinhomes-smart-gia-dot-1-ky-truc-tiep-cdt-pr39239420',\n",
       "       'https://batdongsan.com.vn/ban-can-ho-chung-cu-duong-32-xa-di-trach-prj-chung-cu-the-wisteria/lo-goc-sieu-dep-gia-tu-37tr-tai-du-an-thuoc-phan-khu-hinode-royal-park-qua-tang-11-5-pr39282927',\n",
       "       'https://batdongsan.com.vn/ban-can-ho-chung-cu-duong-32-xa-di-trach-prj-chung-cu-the-wisteria/duy-nhat-ngoai-giao-100m2-3pn-du-an-doi-dien-dai-cong-nghiep-ha-noi-gia-4-7-ty-pr39392876',\n",
       "       'https://batdongsan.com.vn/ban-can-ho-chung-cu-phuong-ngoc-thuy-prj-khai-son-city/top-10-co-gia-ban-tot-nhat-tai-du-an-quy-dep-gia-chi-tu-4-ty-pr39330963',\n",
       "       'https://batdongsan.com.vn/ban-can-ho-chung-cu-duong-luu-huu-phuoc-phuong-my-dinh-2/ban-gap-121-m2-mat-le-duc-tho-goc-c-thoang-pr39393200'],\n",
       "      dtype=object)"
      ]
     },
     "execution_count": 14,
     "metadata": {},
     "output_type": "execute_result"
    }
   ],
   "source": [
    "links.to_numpy()"
   ]
  },
  {
   "cell_type": "code",
   "execution_count": null,
   "id": "236835a9",
   "metadata": {},
   "outputs": [],
   "source": []
  }
 ],
 "metadata": {
  "kernelspec": {
   "display_name": "Python 3 (ipykernel)",
   "language": "python",
   "name": "python3"
  },
  "language_info": {
   "codemirror_mode": {
    "name": "ipython",
    "version": 3
   },
   "file_extension": ".py",
   "mimetype": "text/x-python",
   "name": "python",
   "nbconvert_exporter": "python",
   "pygments_lexer": "ipython3",
   "version": "3.10.9"
  }
 },
 "nbformat": 4,
 "nbformat_minor": 5
}
